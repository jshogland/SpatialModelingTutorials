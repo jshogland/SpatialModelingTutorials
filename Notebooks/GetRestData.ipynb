{
  "cells": [
    {
      "cell_type": "markdown",
      "metadata": {
        "colab_type": "text",
        "id": "view-in-github"
      },
      "source": [
        "<a href=\"https://colab.research.google.com/github/jshogland/SpatialModelingTutorials/blob/main/Notebooks/GetRestData.ipynb\" target=\"_parent\"><img src=\"https://colab.research.google.com/assets/colab-badge.svg\" alt=\"Open In Colab\"/></a>"
      ]
    },
    {
      "cell_type": "markdown",
      "id": "e760e430-e39c-4cbe-afcd-c84391aa0f06",
      "metadata": {
        "id": "e760e430-e39c-4cbe-afcd-c84391aa0f06"
      },
      "source": [
        "# Getting data from a rest api and open streetmaps\n",
        "In this example we will download data from ESRI, Landfire, USFS image and feature services for the extent of the Stanislaus National Forest. We will also be getting date from Open Street Maps.\n",
        "\n",
        "#### author John Hogland 12/1/2023\n",
        "\n",
        "install packages"
      ]
    },
    {
      "cell_type": "code",
      "execution_count": null,
      "id": "_w-LZ8gJSqwS",
      "metadata": {
        "id": "_w-LZ8gJSqwS"
      },
      "outputs": [],
      "source": [
        "!pip install --upgrade gdown\n",
        "!pip install --upgrade numba\n",
        "!pip install --upgrade geopandas\n",
        "!pip install mapclassify\n",
        "!pip install --upgrade datascience\n",
        "!pip install --upgrade gym\n",
        "!pip install --upgrade folium\n",
        "!pip install localtileserver\n",
        "!pip install osmnx\n",
        "!pip install raster_tools"
      ]
    },
    {
      "cell_type": "markdown",
      "id": "PlLw10o_S--d",
      "metadata": {
        "id": "PlLw10o_S--d"
      },
      "source": [
        "import modules"
      ]
    },
    {
      "cell_type": "code",
      "execution_count": null,
      "id": "f7c050df-08bc-4f6d-97c1-0d36cbcec52f",
      "metadata": {
        "id": "f7c050df-08bc-4f6d-97c1-0d36cbcec52f"
      },
      "outputs": [],
      "source": [
        "from raster_tools import Raster, distance, general, Vector, open_vectors, clipping, surface, creation, focal\n",
        "import numpy as np, geopandas as gpd, pandas as pd, osmnx as ox, numba as nb\n",
        "import shapely, requests, urllib.request, os"
      ]
    },
    {
      "cell_type": "markdown",
      "id": "6b97c04b-11ef-4445-a13b-4bde6d1e4c9d",
      "metadata": {
        "id": "6b97c04b-11ef-4445-a13b-4bde6d1e4c9d"
      },
      "source": [
        "## Get the boundary and buffer of the Stanislaus National Forest\n",
        "Visualize the boundary"
      ]
    },
    {
      "cell_type": "code",
      "execution_count": null,
      "id": "2e1c0865-9e12-4a96-8b8b-a301f93e8751",
      "metadata": {
        "id": "2e1c0865-9e12-4a96-8b8b-a301f93e8751"
      },
      "outputs": [],
      "source": [
        "anf=ox.geocode_to_gdf('Stanislaus National Forest, CA, USA')\n",
        "ply=anf.buffer(0.25)\n",
        "ply.explore()"
      ]
    },
    {
      "cell_type": "markdown",
      "id": "a01ed061-21c6-4834-909e-ee75c3e97860",
      "metadata": {
        "id": "a01ed061-21c6-4834-909e-ee75c3e97860"
      },
      "source": [
        "## Get Image Service Data\n",
        "Create methods for getting image and featrue layer services data."
      ]
    },
    {
      "cell_type": "code",
      "execution_count": null,
      "id": "d8c5cf9d-702a-4806-a59b-79f40d3849d2",
      "metadata": {
        "id": "d8c5cf9d-702a-4806-a59b-79f40d3849d2"
      },
      "outputs": [],
      "source": [
        "#definition to extract data from REST service\n",
        "def get_image_service_data(url, ply, out_prefix,res=30,outSR=\"\"):\n",
        "    '''\n",
        "    extracts a list of images from a image service given a url, polygon, and output prefix name\n",
        "\n",
        "    url = (string) path to image service e.g., url=r'https://lfps.usgs.gov/arcgis/rest/services/Landfire_LF230/US_230EVT/ImageServer'\n",
        "    ply = (geoseries or geodataframe) of the study area\n",
        "    out_prefix = (string) prefix used to save each image\n",
        "    '''\n",
        "    layerInfo=requests.get(url+'?f=pjson')\n",
        "    dic=layerInfo.json()\n",
        "    #print(dic)\n",
        "    spr=dic['spatialReference']\n",
        "    m_width=dic['maxImageWidth']\n",
        "    m_height=dic['maxImageHeight']\n",
        "    fitem=next(iter(spr))\n",
        "    ply2=ply.to_crs(spr[fitem])\n",
        "\n",
        "    xmin,ymin,xmax,ymax=ply2.total_bounds\n",
        "\n",
        "    wcells=int((xmax-xmin)/res)\n",
        "    hcells=int((ymax-ymin)/res)\n",
        "\n",
        "    if(wcells<m_width):\n",
        "        m_width=wcells\n",
        "\n",
        "    if(hcells<m_height):\n",
        "        m_height=hcells\n",
        "\n",
        "\n",
        "    wcells_l=np.arange(0,wcells,m_width)\n",
        "    hcells_l=np.arange(0,hcells,m_height)\n",
        "\n",
        "    xmax2=xmin\n",
        "    ymax2=ymin\n",
        "\n",
        "    tile=1\n",
        "\n",
        "    rs_lst=[]\n",
        "    for w in wcells_l:\n",
        "        for h in hcells_l:\n",
        "            xmax2 = (m_width*res+xmax2)\n",
        "            ymax2 = (m_height*res+ymax2)\n",
        "\n",
        "            qry = url+'/exportImage?'\n",
        "            parm = {\n",
        "                'f':'json',\n",
        "                'bbox':','.join([str(xmin),str(ymin),str(xmax2),str(ymax2)]),\n",
        "                'size':str(m_width) + ',' + str(m_height),\n",
        "                'imageSR':outSR,\n",
        "                'format':'tiff'\n",
        "            }\n",
        "            print(parm['bbox'])\n",
        "            response=requests.get(qry,parm)\n",
        "            if response.status_code == 200:\n",
        "                img_url=response.json()['href']\n",
        "                outname=out_prefix + str(tile) + '.tif'\n",
        "                urllib.request.urlretrieve(img_url, outname)\n",
        "                rs_lst.append(Raster(outname))\n",
        "                tile+=1\n",
        "\n",
        "    return rs_lst\n",
        "\n",
        "def get_feature_layer_data(url, geo='',qry='1=1',layer=0):\n",
        "  '''\n",
        "  gets a geodataframe from a Feature Service given the url and optionally a bounding geometry and where clause\n",
        "\n",
        "  url=(string) base url for the feature service\n",
        "  geo=(object) a bounding box string, shapely polygon, geodataframe, or geoseries. string and shapely polygon objects are assumed to be in the same coordinate system as the feature service\n",
        "  qry=(string) where clause used to subset the data\n",
        "  layer= (int) the of the feature service to extract\n",
        "\n",
        "  return a geodataframe of features\n",
        "  '''\n",
        "  s_info=requests.get(url+'?f=pjson').json()\n",
        "  srn=s_info['spatialReference']['wkid']\n",
        "  sr='EPSG:'+str(srn)\n",
        "  if isinstance(geo,gpd.GeoDataFrame):\n",
        "    geo = (geo.to_crs(sr)).total_bounds\n",
        "  elif isinstance(geo,gpd.GeoSeries):\n",
        "    geo = (geo.to_crs(sr)).total_bounds\n",
        "  elif isinstance(geo,shapely.geometry.Polygon):\n",
        "    geo = geo.bounds\n",
        "  else:\n",
        "    pass\n",
        "  geo=','.join(np.array(geo).astype(str))\n",
        "  url1=url+'/'+str(layer)\n",
        "  l_info=requests.get(url1 + '?f=pjson').json()\n",
        "  maxrcn=l_info['maxRecordCount']\n",
        "  if maxrcn>100: maxrcn=100 #used to subset ids so query is not so long\n",
        "  url2 = url1+'/query?'\n",
        "  o_info=requests.get(url2,{'where': qry,'geometry':geo,'geometryType': 'esriGeometryEnvelope','returnIdsOnly':'True','f': 'pjson'}).json()\n",
        "  oid_name=o_info['objectIdFieldName']\n",
        "  oids=o_info['objectIds']\n",
        "  numrec=len(oids)\n",
        "  fslist = []\n",
        "  for i in range(0, numrec, maxrcn):\n",
        "    torec = i + (maxrcn-1)\n",
        "    if torec > numrec:\n",
        "      torec = numrec\n",
        "\n",
        "    objectIds = oids[i:torec]\n",
        "    idstr=oid_name + ' in (' + str(objectIds)[1:-1]+')'\n",
        "    #note that parameter values depend on the service\n",
        "    prm={\n",
        "        'where': idstr,\n",
        "        'outFields': '*',\n",
        "        'returnGeometry': 'true',\n",
        "        'outSR':srn,\n",
        "        'f':'pgeojson',\n",
        "    }\n",
        "    ftrs=requests.get(url2,prm).json()['features']\n",
        "    fslist.append(gpd.GeoDataFrame.from_features(ftrs,crs=sr))\n",
        "\n",
        "  return gpd.pd.concat(fslist)\n",
        "\n"
      ]
    },
    {
      "cell_type": "markdown",
      "id": "3c636313-efca-4412-9718-11031c60d698",
      "metadata": {
        "id": "3c636313-efca-4412-9718-11031c60d698"
      },
      "source": [
        "## Get DEM data from arcgis rest service for area of interest"
      ]
    },
    {
      "cell_type": "code",
      "execution_count": null,
      "id": "3e297314-8639-4cd1-aec7-c46cb4c76195",
      "metadata": {
        "id": "3e297314-8639-4cd1-aec7-c46cb4c76195"
      },
      "outputs": [],
      "source": [
        "url_dem=r'https://elevation3d.arcgis.com/arcgis/rest/services/WorldElevation3D/Terrain3D/ImageServer'\n",
        "dem_lst=get_image_service_data(url_dem,ply,'DEM',30,5070)"
      ]
    },
    {
      "cell_type": "markdown",
      "id": "mRxiHikzTwhT",
      "metadata": {
        "id": "mRxiHikzTwhT"
      },
      "source": [
        "## Get EVT data form Landfire for area of interest"
      ]
    },
    {
      "cell_type": "code",
      "execution_count": null,
      "id": "hvLBMhqeUERW",
      "metadata": {
        "id": "hvLBMhqeUERW"
      },
      "outputs": [],
      "source": [
        "url_evt=r'https://lfps.usgs.gov/arcgis/rest/services/Landfire_LF230/US_230EVT/ImageServer' #EVT url\n",
        "evt_lst=get_image_service_data(url_evt,ply,'EVT',30,5070)"
      ]
    },
    {
      "cell_type": "markdown",
      "id": "BMhVN8D3T4tP",
      "metadata": {
        "id": "BMhVN8D3T4tP"
      },
      "source": [
        "## POD data"
      ]
    },
    {
      "cell_type": "code",
      "execution_count": null,
      "id": "mJQhk3vTUIjT",
      "metadata": {
        "id": "mJQhk3vTUIjT"
      },
      "outputs": [],
      "source": [
        "url = r'https://services3.arcgis.com/T4QMspbfLg3qTGWY/arcgis/rest/services/Nat_PODs_Public/FeatureServer'\n",
        "pods=get_feature_layer_data(url,gpd.GeoDataFrame(geometry=ply,crs=ply.crs),layer=1)"
      ]
    },
    {
      "cell_type": "markdown",
      "id": "c8J_TBzBUqBY",
      "metadata": {
        "id": "c8J_TBzBUqBY"
      },
      "source": [
        "## Visualize the data\n",
        "\n",
        "Look at the third DEM returned"
      ]
    },
    {
      "cell_type": "code",
      "execution_count": null,
      "id": "R2K2MeimU97Z",
      "metadata": {
        "id": "R2K2MeimU97Z"
      },
      "outputs": [],
      "source": [
        "dem_lst[2].plot(cmap='terrain',figsize=(15,15))"
      ]
    },
    {
      "cell_type": "markdown",
      "id": "AbIFLI4qU1vI",
      "metadata": {
        "id": "AbIFLI4qU1vI"
      },
      "source": [
        "Look at EVT raster"
      ]
    },
    {
      "cell_type": "code",
      "execution_count": null,
      "id": "oMIe9QkyVJxI",
      "metadata": {
        "id": "oMIe9QkyVJxI"
      },
      "outputs": [],
      "source": [
        "evt_lst[0].plot(figsize=(15,15))"
      ]
    },
    {
      "cell_type": "markdown",
      "id": "JBeYgfhhU4ME",
      "metadata": {
        "id": "JBeYgfhhU4ME"
      },
      "source": [
        "Look at PODs in folium"
      ]
    },
    {
      "cell_type": "code",
      "execution_count": null,
      "id": "08fc4554-a451-4648-885d-ed1fb8cf80b3",
      "metadata": {
        "id": "08fc4554-a451-4648-885d-ed1fb8cf80b3"
      },
      "outputs": [],
      "source": [
        "pods.explore()"
      ]
    }
  ],
  "metadata": {
    "colab": {
      "include_colab_link": true,
      "provenance": []
    },
    "kernelspec": {
      "display_name": "Python 3 (ipykernel)",
      "language": "python",
      "name": "python3"
    },
    "language_info": {
      "codemirror_mode": {
        "name": "ipython",
        "version": 3
      },
      "file_extension": ".py",
      "mimetype": "text/x-python",
      "name": "python",
      "nbconvert_exporter": "python",
      "pygments_lexer": "ipython3",
      "version": "3.11.6"
    }
  },
  "nbformat": 4,
  "nbformat_minor": 5
}
