{
 "cells": [
  {
   "cell_type": "markdown",
   "metadata": {},
   "source": [
    "<a href=\"https://colab.research.google.com/github/jshogland/SpatialModelingTutorials/blob/main/Notebooks/spatialstats.ipynb\" target=\"_parent\"><img src=\"https://colab.research.google.com/assets/colab-badge.svg\" alt=\"Open In Colab\"/></a>"
   ]
  },
  {
   "cell_type": "markdown",
   "metadata": {},
   "source": [
    "# Local, Regional, and Global Moran's I and Geary's C spatial statistics.\n",
    "### This notebook walks you through how to calculate spatial statistic for raster datasets using Raster Tools and use those statistics to determine a kernel size that accounts for spatial correlation.\n",
    "\n",
    "John Hogland 2/11/2025"
   ]
  },
  {
   "cell_type": "markdown",
   "metadata": {},
   "source": [
    "## Install necessary packages to run on Colab"
   ]
  },
  {
   "cell_type": "code",
   "execution_count": null,
   "metadata": {},
   "outputs": [],
   "source": [
    "!pip install mapclassify\n",
    "!pip install osmnx\n",
    "!pip install raster_tools\n",
    "!pip install planetary-computer\n",
    "!pip install pystac-client\n",
    "!pip install stackstac\n"
   ]
  },
  {
   "cell_type": "markdown",
   "metadata": {},
   "source": [
    "## Import packages"
   ]
  },
  {
   "cell_type": "code",
   "execution_count": null,
   "metadata": {},
   "outputs": [],
   "source": [
    "import numpy as np, os, geopandas as gpd, numba as nb, osmnx as ox, pystac_client, planetary_computer, stackstac\n",
    "from raster_tools import raster, Raster, focal"
   ]
  },
  {
   "cell_type": "markdown",
   "metadata": {},
   "source": [
    "### The study area\n",
    "#### Get the boundary data for portions of the Custer Gallatin National Forest and create a interactive location map of the study (Figure 1)."
   ]
  },
  {
   "cell_type": "code",
   "execution_count": null,
   "metadata": {},
   "outputs": [],
   "source": [
    "import folium\n",
    "#use OpenStreetMaps to get the boundary of the NF\n",
    "nf=ox.geocode_to_gdf('Custer Gallatin National Forest, MT, USA')\n",
    "\n",
    "#get first polygon of the NF\n",
    "nfe=nf.explode()\n",
    "nf1=gpd.GeoSeries(nfe.geometry.iloc[10],crs=nf.crs)\n",
    "\n",
    "#project to Albers equal area\n",
    "nf1p=nf1.to_crs(5070)\n",
    "\n",
    "#Visualize the nf1 and sample locations\n",
    "m=nf1p.explore(color='red',style_kwds=dict(fill=False,weight=5),name='Boundary')\n",
    "folium.TileLayer(\n",
    "    tiles=\"https://server.arcgisonline.com/ArcGIS/rest/services/World_Imagery/MapServer/tile/{z}/{y}/{x}\",\n",
    "    attr=\"Esri\",\n",
    "    name=\"Esri Imagery\",\n",
    "    overlay=False,\n",
    "    control=True,\n",
    ").add_to(m)\n",
    "folium.LayerControl().add_to(m)\n",
    "m"
   ]
  },
  {
   "cell_type": "markdown",
   "metadata": {},
   "source": [
    "__Figure 1.__ Interactive location map of the study area."
   ]
  },
  {
   "cell_type": "markdown",
   "metadata": {},
   "source": [
    "### Step 1: Get Landsat 8 Imagery\n",
    "Create download definitions"
   ]
  },
  {
   "cell_type": "code",
   "execution_count": 3,
   "metadata": {},
   "outputs": [],
   "source": [
    "#create definition to mosaic stac data\n",
    "def mosaic_stac(xr):\n",
    "    return stackstac.mosaic(xr)\n",
    "\n",
    "#create definition to extract stac data\n",
    "def get_stac_data(geo,url=\"https://planetarycomputer.microsoft.com/api/stac/v1\",name=\"sentinel-2-l2a\",res=30,crs=5070,**kwarg):\n",
    "    '''\n",
    "    gets tiled data from planetary computer as a dask backed xarray that intersects the geometry of the point, line, or polygon\n",
    "\n",
    "    geo = (polygon) geometry bounding box (WGS84)\n",
    "    url = (string) base url to planetary computer https://planetarycomputer.microsoft.com/api/stac/v1\n",
    "    name = (string) catelog resource\n",
    "    qry =  (dictoinary) of property values {'eo:cloud_cover':{'lt':1}}\n",
    "    res = (tuple of numbers) output resolution (x,y)\n",
    "    crs = (int) output crs\n",
    "    dt = (string) data time intervale e.g., one month: 2023-06, range: 2023-06-02/2023-06-17\n",
    "    limit = (int) max number of items to return\n",
    "\n",
    "    returns (xarray data array and stac item catalog)\n",
    "    '''\n",
    "    catalog = pystac_client.Client.open(url, modifier=planetary_computer.sign_inplace)\n",
    "    srch = catalog.search(collections=name, intersects=geo, **kwarg)\n",
    "    ic = srch.item_collection()\n",
    "    if(len(ic.items)>0):\n",
    "        xra = stackstac.stack(ic,resolution=res,epsg=crs)\n",
    "        xra = mosaic_stac(xra)\n",
    "    else:\n",
    "        xra=None\n",
    "\n",
    "    return xra,ic\n"
   ]
  },
  {
   "cell_type": "markdown",
   "metadata": {},
   "source": [
    "Download the data and create a raster object"
   ]
  },
  {
   "cell_type": "code",
   "execution_count": 4,
   "metadata": {},
   "outputs": [],
   "source": [
    "#get stac data landsat data\n",
    "if(not os.path.exists('ls82016.tif')):\n",
    "    xmin,ymin,xmax,ymax=nf1p.buffer(200).total_bounds\n",
    "    ls30, ic =get_stac_data(nf1.geometry[0],\"https://planetarycomputer.microsoft.com/api/stac/v1\",name=\"landsat-c2-l2\",res=30,crs=5070,datetime='2016-06-15/2016-06-30',query={'eo:cloud_cover':{'lt':10},'platform':{'eq':'landsat-8'}},limit=1000)\n",
    "    ls30s=Raster(ls30.sel(band=['red', 'green', 'blue','nir08', 'lwir11','swir16', 'swir22'],x=slice(xmin,xmax),y=slice(ymax,ymin)))\n",
    "    ls30s=ls30s.save('ls82016.tif')\n",
    "\n",
    "ls30s=Raster('ls82016.tif')"
   ]
  },
  {
   "cell_type": "markdown",
   "metadata": {},
   "source": [
    "Visualize the study area and the Landsat 8 image (Figure 2)."
   ]
  },
  {
   "cell_type": "code",
   "execution_count": null,
   "metadata": {},
   "outputs": [],
   "source": [
    "p=nf1p.plot(edgecolor='red',facecolor='none',figsize=(15,10),linewidth=5)\n",
    "p=ls30s.get_bands([1,2,3]).xdata.plot.imshow(ax=p,robust=True)\n"
   ]
  },
  {
   "cell_type": "markdown",
   "metadata": {},
   "source": [
    "### Step 2: Performing spatial statistics\n",
    "\n",
    "#### Create definition from Moran's I and Geary's C."
   ]
  },
  {
   "cell_type": "code",
   "execution_count": 8,
   "metadata": {},
   "outputs": [],
   "source": [
    "# Spatial stats\n",
    "@nb.jit(nopython=True, nogil=True)\n",
    "def _get_l_morani(img,wm):\n",
    "    '''\n",
    "    calculates local Moran's I metric for a given array of values and weighted values. wm and img arrays must be the same size. \n",
    "    img=(2d numpy.array) of values e.g. [[1,2,3][4,5,6],[7,8,9]]\n",
    "    wm=(2d numpy.array) of spatial weights e.g. queen [[1,1,1][1,0,1],[1,1,1]] or rook [[0,1,0][1,0,1],[0,1,0]]\n",
    "    '''\n",
    "    rws,clms=img.shape\n",
    "    hr=int(rws/2)\n",
    "    hc=int(clms/2)\n",
    "    n=(rws*clms)\n",
    "    s=0\n",
    "    s2=0\n",
    "    for r in range(rws):\n",
    "        for c in range(clms):\n",
    "            vl=img[r,c]\n",
    "            s+=vl\n",
    "            s2+=vl**2\n",
    "    m=s/n\n",
    "    v=(s2-((s**2)/n))/n\n",
    "    i=img[hr,hc]\n",
    "    s3=0\n",
    "    for r in range(rws):\n",
    "        for c in range(clms):\n",
    "            vl=img[r,c]\n",
    "            w=wm[r,c]\n",
    "            s3+=w*(vl-m)\n",
    "            \n",
    "    return (((i-m)/v)*s3)/wm.sum()\n",
    "\n",
    "@nb.jit(nopython=True, nogil=True)\n",
    "def _get_l_gearyc(img,wm):\n",
    "    '''\n",
    "    calculates local Geary C metric for a given array of values and weighted values. wm and img arrays must be the same size. \n",
    "    img=(2d numpy.array) of values e.g. [[1,2,3][4,5,6],[7,8,9]]\n",
    "    wm=(2d numpy.array) of spatial weights e.g. queen [[1,1,1][1,0,1],[1,1,1]] or rook [[0,1,0][1,0,1],[0,1,0]]\n",
    "\n",
    "    '''\n",
    "    rws,clms=img.shape\n",
    "    hr=int(rws/2)\n",
    "    hc=int(clms/2)\n",
    "    n=(rws*clms)\n",
    "    s=0\n",
    "    s2=0\n",
    "    s3=0\n",
    "    i=img[hr,hc]\n",
    "    for r in range(rws):\n",
    "        for c in range(clms):\n",
    "            vl=img[r,c]\n",
    "            w=wm[r,c]\n",
    "            s+=vl\n",
    "            s2+=vl**2\n",
    "            s3+=w*((vl-i)**2)\n",
    "\n",
    "    v=(s2-((s**2)/(n)))/(n-1)         \n",
    "    return (1/v)*s3\n",
    "\n",
    "@nb.jit(nopython=True, nogil=True)\n",
    "def _get_lisa(X,moran,wm):\n",
    "    ''' \n",
    "    Creates local spatial statistic metrics\n",
    "    \n",
    "    X = (numpy.array) 3d array of numeric values\n",
    "    moran = (boolean) if True (default), will return local Moran's I statistic. If False will return local Geary's C statistic\n",
    "    wm = (numpy.array) 2d array of weights e.g. queen [[1,1,1][1,0,1],[1,1,1]] or rook [[0,1,0][1,0,1],[0,1,0]]\n",
    "    \n",
    "    returns ndarray of values\n",
    "    '''\n",
    "    bnds,rws,clms=X.shape\n",
    "    wrws,wclms=wm.shape\n",
    "    hwrws=int(wrws/2)\n",
    "    hwclms=int(wclms/2)\n",
    "    out_arr=np.zeros((bnds,rws,clms))\n",
    "    for b in range(bnds):\n",
    "        for r in range(rws-hwrws):\n",
    "            nr=r+hwrws\n",
    "            for c in range(clms-hwclms):\n",
    "                nc=c+hwclms\n",
    "                img=X[b,r:r+wrws,c:c+wclms]\n",
    "                if(moran): vl = _get_l_morani(img,wm)\n",
    "                else: vl= _get_l_gearyc(img,wm)\n",
    "                out_arr[b,nr,nc]=vl\n",
    "    return out_arr\n",
    "\n",
    "def get_lisa(rs,moran=True,wm=np.array([[1,1,1],[1,0,1],[1,1,1]])):\n",
    "    ''' \n",
    "    Creates local spatial statistic raster surface\n",
    "    \n",
    "    rs = (Raster) raster object of values\n",
    "    moran = (boolean) if True (default), will return local Moran's I statistic. If False will return local Geary's C statistic\n",
    "    wm = (numpy.array) 2d array of weights e.g. queen [[1,1,1][1,0,1],[1,1,1]] or rook [[0,1,0][1,0,1],[0,1,0]]\n",
    "    \n",
    "    returns raster\n",
    "    '''\n",
    "    #use map overlap function to retrieve kernel cell values\n",
    "    r,c=wm.shape\n",
    "    hr=int(r/2)\n",
    "    hc=int(c/2)\n",
    "    darr = rs.data.map_overlap(\n",
    "        _get_lisa,\n",
    "        depth={0: 0, 1: hr, 2: hc},\n",
    "        trim=True,\n",
    "        boundary=0,\n",
    "        dtype='f8',\n",
    "        meta=np.array((),dtype='f8'),\n",
    "        moran=moran,\n",
    "        wm=wm,\n",
    "    )\n",
    "    out_rs=raster.data_to_raster(darr,mask=rs.mask,x=rs.x,y=rs.y,affine=rs.affine,crs=rs.crs)\n",
    "    return out_rs \n",
    "\n",
    "def get_risa(rs,moran=True,reg_ext=5,wm=np.array([[1,1,1],[1,0,1],[1,1,1]])):\n",
    "    ''' \n",
    "    Creates Regional spatial statistic metrics for subregions within the raster based on the region extent of the analysis.\n",
    "    Global spatial statistics are calculated for each subregion and applied to focal cell.\n",
    "    \n",
    "    rs = (Raster) raster object of values\n",
    "    moran = (boolean) if True (default), will return Global Moran's I statistic. If False will return Global Geary's C statistic\n",
    "    reg_ext= width of the region in pixels. A value of 1 will give the same result as LISA.\n",
    "    wm = (numpy.array) 2d array of weights e.g. queen [[1,1,1][1,0,1],[1,1,1]] or rook [[0,1,0][1,0,1],[0,1,0]]\n",
    "    \n",
    "    returns a raster surface of Regional metrics for each cell within the defined region of the raster\n",
    "    '''\n",
    "    lrs=get_lisa(rs,moran,wm)\n",
    "    if(moran):\n",
    "        rrs= focal.focal(lrs,'mean',reg_ext,reg_ext)\n",
    "    else:\n",
    "        rrs= focal.focal(lrs,'sum',reg_ext,reg_ext)/(2*(reg_ext**2)*wm.sum())\n",
    "    \n",
    "    return rrs\n",
    "\n",
    "\n",
    "def get_gisa(rs,moran=True,wm=np.array([[1,1,1],[1,0,1],[1,1,1]])):\n",
    "    ''' \n",
    "    Creates Global spatial statistic metrics\n",
    "    \n",
    "    rs = (Raster) raster object of values\n",
    "    moran = (boolean) if True (default), will return Global Moran's I statistic. If False will return Global Geary's C statistic\n",
    "    wm = (numpy.array) 2d array of weights e.g. queen [[1,1,1][1,0,1],[1,1,1]] or rook [[0,1,0][1,0,1],[0,1,0]]\n",
    "    \n",
    "    returns the Global metric for all cells within the raster\n",
    "    '''\n",
    "    lrs=get_lisa(rs,moran,wm)\n",
    "    s=lrs.sum()\n",
    "    n=(~lrs.mask).sum()\n",
    "    if(moran):\n",
    "        ovl=s/n\n",
    "    else:\n",
    "        ovl=s/(2*n*wm.sum())\n",
    "    return ovl\n"
   ]
  },
  {
   "cell_type": "markdown",
   "metadata": {},
   "source": [
    "### Use local indicators of spatial association (LISA) and regional indicators of spatial association (RISA) definitions to determine a windows size that accounts for spatial correlation."
   ]
  },
  {
   "cell_type": "code",
   "execution_count": null,
   "metadata": {},
   "outputs": [],
   "source": [
    "# Get Local Spatial Statistics\n",
    "rs_lm=get_lisa(ls30s,True,np.array([[0,1,0],[1,0,1],[0,1,0]]))\n",
    "rs_lm.get_bands(1).plot(figsize=(15,8),cmap='PRGn',robust=True)#x='x',y='y',col='band',col_wrap=3,figsize=(15,rs_lm.nbands),robust=True,cmap='PRGn')"
   ]
  },
  {
   "cell_type": "code",
   "execution_count": 10,
   "metadata": {},
   "outputs": [],
   "source": [
    "# Get Regional Spatial Statistics\n",
    "mlst=[]\n",
    "slst=[]\n",
    "wts = np.arange(1,53,2)\n",
    "for w in wts:\n",
    "    rs_rm=get_risa(ls30s,True,w,np.array([[0,1,0],[1,0,1],[0,1,0]]))\n",
    "    b1=rs_rm.get_bands(1)\n",
    "    mlst.append(b1.mean().compute())\n",
    "    slst.append(b1.std().compute())\n",
    "\n",
    "#b1.mean().plot(figsize=(15,8),cmap='PRGn',robust=True)#x='x',y='y',col='band',col_wrap=3,figsize=(15,rs_lm.nbands),robust=True,cmap='PRGn')"
   ]
  },
  {
   "cell_type": "markdown",
   "metadata": {},
   "source": [
    "### Visualize the variation in RISA as window size increases."
   ]
  },
  {
   "cell_type": "code",
   "execution_count": null,
   "metadata": {},
   "outputs": [],
   "source": [
    "#determine window size from change in regional moran's I\n",
    "import pandas as pd\n",
    "df=pd.DataFrame([wts,mlst,slst],index=['width','moran','sd_moran']).T\n",
    "df[['moran','sd_moran']].plot(kind='barh',figsize=(15,15)).invert_yaxis()\n",
    "\n",
    "              "
   ]
  },
  {
   "cell_type": "markdown",
   "metadata": {},
   "source": [
    "## Discussion:\n",
    "### A window size of 9 by 9 or 11 by 11 cells should be sufficiently large enough to account for spatial correlation. Note, how the mean of RISA metrics (i.e., global Moran's I, blue) remains constant while the standard deviation in RISA Moran's I decrease as window size increases. Interestingly, at the sixth iteration of RISA metrics for a 11 by 11 window, the standard deviation of RISA Moran I statistics begins to level off and drops below the Global Moran's I statistic. This point highlights the approximate size of a kernel or window needed to account for spatial correlation.                  "
   ]
  }
 ],
 "metadata": {
  "kernelspec": {
   "display_name": "rstools",
   "language": "python",
   "name": "python3"
  },
  "language_info": {
   "codemirror_mode": {
    "name": "ipython",
    "version": 3
   },
   "file_extension": ".py",
   "mimetype": "text/x-python",
   "name": "python",
   "nbconvert_exporter": "python",
   "pygments_lexer": "ipython3",
   "version": "3.10.16"
  }
 },
 "nbformat": 4,
 "nbformat_minor": 2
}
