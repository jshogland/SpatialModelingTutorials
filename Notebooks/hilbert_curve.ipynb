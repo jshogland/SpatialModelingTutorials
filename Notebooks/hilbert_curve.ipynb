{
 "cells": [
  {
   "cell_type": "markdown",
   "metadata": {
    "colab_type": "text",
    "id": "view-in-github"
   },
   "source": [
    "<a href=\"https://colab.research.google.com/github/jshogland/SpatialModelingTutorials/blob/main/Notebooks/hilbert_curve.ipynb\" target=\"_parent\"><img src=\"https://colab.research.google.com/assets/colab-badge.svg\" alt=\"Open In Colab\"/></a>"
   ]
  },
  {
   "cell_type": "markdown",
   "metadata": {
    "id": "LaKlFZt4pEEO"
   },
   "source": [
    "# Hilbert space fitting curve and potential ways we can use them.\n",
    "\n",
    "by John Hogland 3/15/2024\n",
    "### Installing packages"
   ]
  },
  {
   "cell_type": "code",
   "execution_count": null,
   "metadata": {
    "id": "lqni5meHpEEO"
   },
   "outputs": [],
   "source": [
    "!pip install mapclassify\n",
    "!pip install osmnx\n",
    "!pip install raster_tools\n",
    "!pip install planetary-computer\n",
    "!pip install pystac-client\n",
    "!pip install stackstac\n",
    "!pip install hilbertcurve"
   ]
  },
  {
   "cell_type": "markdown",
   "metadata": {
    "id": "iT5MR-bXpEEP"
   },
   "source": [
    "### Importing packages"
   ]
  },
  {
   "cell_type": "code",
   "execution_count": null,
   "metadata": {
    "id": "tlZI8d-QpEEP"
   },
   "outputs": [],
   "source": [
    "import geopandas as gpd, pandas as pd\n",
    "import numpy as np\n",
    "from hilbertcurve.hilbertcurve import HilbertCurve"
   ]
  },
  {
   "cell_type": "markdown",
   "metadata": {
    "id": "nzRR1dqRpEEP"
   },
   "source": [
    "# Let's look at how cells are orginzed within Hilbert space\n",
    "- Note that cell indexing is based on quadrants in the u-shape space fitting curve\n",
    "- Increase the level of complexity p (increase the axis) and notice how within quadrants the pattern gets rotated within sub-quadrants but maintains the overall larger indexing or pattern\n",
    "\n",
    "## Create 2d hilbert curve and visualize as lines and polygons\n",
    "- For lines print cell nodes and connection lines\n",
    "- For polygons print color based on hilbert distance (gradient of color denotes order of indexing)"
   ]
  },
  {
   "cell_type": "code",
   "execution_count": null,
   "metadata": {
    "id": "t_XIJq5epEEP"
   },
   "outputs": [],
   "source": [
    "# Specify the Hilbet Curve\n",
    "pcl=['x','y','z','a','b','c']\n",
    "n=2 #number of dimensions\n",
    "p=4 #length of axis\n",
    "hc=HilbertCurve(p=p,n=n)\n",
    "dist = range(np.power(2,n*p)) #get all cubes created\n",
    "pnts=pd.DataFrame(hc.points_from_distances(dist),columns=pcl[:n])\n",
    "pnts.plot(x='x',y='y',color='green',style='.-',figsize=(8,8))\n",
    "gdf = gpd.GeoSeries(gpd.points_from_xy(pnts['x'],pnts['y']))\n",
    "gdf2=gdf.buffer(0.5,cap_style='square')\n",
    "gpd.GeoDataFrame(dist,columns=['dist'],geometry=gdf2).plot(column='dist',figsize=(8,8),cmap='turbo')"
   ]
  },
  {
   "cell_type": "markdown",
   "metadata": {
    "id": "UmTociwcpEEP"
   },
   "source": [
    "## Visualize 3d rendering of hilbert space fitting curves\n",
    "- As connected lines in 3d space\n",
    "- As color coded points in 3d space (color identifies index number/distance)\n",
    "- Adjust p to see how quadrants change in color and connectivity"
   ]
  },
  {
   "cell_type": "code",
   "execution_count": 3,
   "metadata": {
    "id": "VVtuf51jpEEQ"
   },
   "outputs": [],
   "source": [
    "# Specify the Hilbet Curve\n",
    "pcl=['x','y','z','a','b','c']\n",
    "n=3 #number of dimensions\n",
    "p=3 #length of axis\n",
    "hc=HilbertCurve(p=p,n=n)\n",
    "dist = range(np.power(2,n*p,dtype='object')) #get all cubes created\n",
    "pnts=pd.DataFrame(hc.points_from_distances(dist),dtype='int32',columns=pcl[:n]) #convert to a dataframe"
   ]
  },
  {
   "cell_type": "markdown",
   "metadata": {
    "id": "zbROdKu4pEEQ"
   },
   "source": [
    "### Visualize the how each cube is connected (line graph)"
   ]
  },
  {
   "cell_type": "code",
   "execution_count": null,
   "metadata": {
    "id": "KpUrxZkdpEEQ"
   },
   "outputs": [],
   "source": [
    "import matplotlib.pyplot as plt\n",
    "\n",
    "fig = plt.figure(figsize=(8,8))\n",
    "\n",
    "# syntax for 3-D projection\n",
    "ax = plt.axes(projection ='3d')\n",
    "\n",
    "# defining all 3 axis\n",
    "z = pnts['z']\n",
    "x = pnts['x']\n",
    "y = pnts['y']\n",
    "\n",
    "# plotting\n",
    "ax.plot3D(xs=x, ys=y, zs=z, color='green')\n",
    "ax.set_title('3D line plot Hilbert Curve')\n",
    "plt.show()"
   ]
  },
  {
   "cell_type": "markdown",
   "metadata": {
    "id": "T0-uOKgjpEEQ"
   },
   "source": [
    "# Visualize in a dynamic graph and see how connectivity is rotated in the cube depending on the value of p\n",
    "### Note, colors stays within quadrants"
   ]
  },
  {
   "cell_type": "code",
   "execution_count": null,
   "metadata": {
    "id": "coA0RUv9pEEQ"
   },
   "outputs": [],
   "source": [
    "import plotly.express as px\n",
    "fig = px.scatter_3d(pnts, x='x', y='y', z='z',\n",
    "              color=list(dist),width=1500,height=800)\n",
    "\n",
    "fig.show()"
   ]
  },
  {
   "cell_type": "markdown",
   "metadata": {
    "id": "08FnO52bpEEQ"
   },
   "source": [
    "# Hilbert space fitting curve properties\n",
    "### The indexing of finite space in the hilbert curve allows one to easily map from multi-dimensional space to one-dimensional space (distance along the curve). One can think of this distance as the drawing order of each cell within a hypercube and can further use that order to sort similar regions of the hyper cube. This property allows us to compare proximity across all cells and clump like regions which is useful for spreading and clumping. Let's explore how we can systematically sample across hilbert space to reduce sampling variation and further use hilbert distance to cluster like regions.\n"
   ]
  },
  {
   "cell_type": "markdown",
   "metadata": {
    "id": "5x5fpU2vpEEQ"
   },
   "source": [
    "## Systematic sampling (2d)\n",
    "- Each dimension is scaled to p units\n",
    "- Hilbert distance is (cell index) used to order the data\n",
    "- A well spread and balanced sample is extracted systematically from the ordered cells"
   ]
  },
  {
   "cell_type": "code",
   "execution_count": null,
   "metadata": {
    "id": "lApAf8LopEEQ"
   },
   "outputs": [],
   "source": [
    "# Specify the Hilbet Curve\n",
    "pcl=['x','y','z','a','b','c','d','e','f']\n",
    "n=2 #number of dimensions\n",
    "p=5 #length of axis\n",
    "hc=HilbertCurve(p=p,n=n)\n",
    "ss=128\n",
    "max_dist=np.power(2,n*p)\n",
    "sk=max_dist/ss\n",
    "dist = np.arange(0,max_dist,sk).astype('uint64') #get all cubes created\n",
    "pnts=pd.DataFrame(hc.points_from_distances(dist),columns=pcl[:n])\n",
    "pnts.plot(x='x',y='y',color='green',style='.-',figsize=(8,8))\n",
    "gdf = gpd.GeoSeries(gpd.points_from_xy(pnts['x'],pnts['y']))\n",
    "gdf2=gdf.buffer(0.5,cap_style='square')\n",
    "gpd.GeoDataFrame(dist,columns=['dist'],geometry=gdf2).plot(column='dist',figsize=(8,8))"
   ]
  },
  {
   "cell_type": "markdown",
   "metadata": {
    "id": "DWn6WWUxpEER"
   },
   "source": [
    "## Systematic Sampling (3d)"
   ]
  },
  {
   "cell_type": "code",
   "execution_count": null,
   "metadata": {
    "id": "gp9oB8g4pEER"
   },
   "outputs": [],
   "source": [
    "# Specify the Hilbet Curve\n",
    "pcl=['x','y','z','a','b','c']\n",
    "n=3 #number of dimensions\n",
    "p=4 #length of axis\n",
    "hc=HilbertCurve(p=p,n=n)\n",
    "ss=128\n",
    "max_dist=np.power(2,n*p)\n",
    "sk=max_dist/ss\n",
    "dist = np.arange(0,max_dist,sk).astype('uint64')\n",
    "pnts=pd.DataFrame(hc.points_from_distances(dist),dtype='uint64',columns=pcl[:n]) #convert to a dataframe\n",
    "fig = px.scatter_3d(pnts, x='x', y='y', z='z',\n",
    "              color=dist.astype(float),width=1500,height=800)\n",
    "\n",
    "fig.show()"
   ]
  },
  {
   "cell_type": "markdown",
   "metadata": {
    "id": "5n46ZV6opEER"
   },
   "source": [
    "# Hilbert space fitting curves can be used to naturally group like values together. One can use this to find clusters within the data. Using Raster Tools' model_predict function we can make a definition that can convert a multi-band raster into a single band raster of Hilbert curve distances. Moreover, we can use Hilbert distance to create like groups or clusters of cells.\n",
    "- Get landsat data\n",
    "- Create a Hilbert curve object (n=nbands, p=at least 2 bit number of classes)\n",
    "- Create a definition that classifies a N*M array into distances as a numpy array\n",
    "- Add that definition to our Hilbert curve object\n",
    "- Read in landsat raster and normalize to a value between 0 and 1\n",
    "- Use Raster Tools' ModelPredictAdapter to create model that can be passed to model_predict\n",
    "- Apply the model to the normalized raster to create a surface of Hilbert distances\n",
    "- Use mapclassify to find natural breaks in the density of Hilbert distances (k classes)\n",
    "- Use those natural breaks to remap Hilbert distances surface to each class\n",
    "- Plot the results\n",
    "\n",
    "### Import packages"
   ]
  },
  {
   "cell_type": "code",
   "execution_count": 8,
   "metadata": {
    "id": "SQ4nuP0SpEER"
   },
   "outputs": [],
   "source": [
    "#import functions\n",
    "from raster_tools import Raster,general,zonal\n",
    "import mapclassify\n",
    "import stackstac, pystac_client, planetary_computer, os, osmnx as ox"
   ]
  },
  {
   "cell_type": "markdown",
   "metadata": {
    "id": "cJW5ad3ipEER"
   },
   "source": [
    "### Get Landsat Data"
   ]
  },
  {
   "cell_type": "code",
   "execution_count": null,
   "metadata": {
    "id": "jBt7hRVvpEER"
   },
   "outputs": [],
   "source": [
    "#create definition to mosaic stac data\n",
    "def mosaic_stac(xr):\n",
    "    return stackstac.mosaic(xr)\n",
    "\n",
    "#create definition to extract stac data\n",
    "def get_stac_data(geo,url=\"https://planetarycomputer.microsoft.com/api/stac/v1\",name=\"sentinel-2-l2a\",res=30,crs=5070,**kwarg):\n",
    "    '''\n",
    "    gets tiled data from planetary computer as a dask backed xarray that intersects the geometry of the point, line, or polygon\n",
    "\n",
    "    geo = (polygon) geometry bounding box (WGS84)\n",
    "    url = (string) base url to planetary computer https://planetarycomputer.microsoft.com/api/stac/v1\n",
    "    name = (string) catelog resource\n",
    "    qry =  (dictoinary) of property values {'eo:cloud_cover':{'lt':1}}\n",
    "    res = (tuple of numbers) output resolution (x,y)\n",
    "    crs = (int) output crs\n",
    "    dt = (string) data time intervale e.g., one month: 2023-06, range: 2023-06-02/2023-06-17\n",
    "    limit = (int) max number of items to return\n",
    "\n",
    "    returns (xarray data array and stac item catalog)\n",
    "    '''\n",
    "    catalog = pystac_client.Client.open(url, modifier=planetary_computer.sign_inplace)\n",
    "    srch = catalog.search(collections=name, intersects=geo, **kwarg)\n",
    "    ic = srch.item_collection()\n",
    "    if(len(ic.items)>0):\n",
    "        xra = stackstac.stack(ic,resolution=res,epsg=crs)\n",
    "        xra = mosaic_stac(xra)\n",
    "    else:\n",
    "        xra=None\n",
    "\n",
    "    return xra,ic\n",
    "\n",
    "#get stac data\n",
    "if(not os.path.exists('ls8_g.tif')):\n",
    "    nf=ox.geocode_to_gdf('Custer Gallatin National Forest, MT, USA')\n",
    "    #get first polygon of the NF\n",
    "    nfe=nf.explode()\n",
    "    nf1=gpd.GeoSeries(nfe.geometry.iloc[10],crs=nf.crs)\n",
    "    #project to Albers equal area\n",
    "    nf1p=nf1.to_crs(5070)\n",
    "    nf1=gpd.GeoSeries(nfe.geometry.iloc[10],crs=nf.crs)\n",
    "    xmin,ymin,xmax,ymax=nf1p.buffer(30000).total_bounds\n",
    "    ls30, ic =get_stac_data(nf1.geometry[0],\"https://planetarycomputer.microsoft.com/api/stac/v1\",name=\"landsat-c2-l2\",res=30,crs=5070,datetime='2023-07-15/2023-07-30',query={'eo:cloud_cover':{'lt':10},'platform':{'eq':'landsat-8'}},limit=1000)\n",
    "    ls30s=Raster(ls30.sel(band=['red', 'blue', 'green', 'nir08', 'lwir11','swir16', 'swir22'],x=slice(xmin,xmax),y=slice(ymax,ymin)))\n",
    "    ls30s=ls30s.save('ls8_g.tif')"
   ]
  },
  {
   "cell_type": "code",
   "execution_count": 10,
   "metadata": {
    "id": "RWKY7-GQpEER"
   },
   "outputs": [],
   "source": [
    "#definition to convert hilbert distance output to numpy array\n",
    "def _calcdist(X):\n",
    "    return np.array(hc.distances_from_points(X))\n",
    "\n",
    "#read in raster\n",
    "ls_rs=Raster('ls8_g.tif').chunk((1,1024,1024))\n",
    "\n",
    "#define k classes, n dimensions, and p axis length\n",
    "k=10\n",
    "n=ls_rs.nbands\n",
    "p=np.log2(k).astype('int')+1 # a function based on number of k classes\n",
    "\n",
    "hc=HilbertCurve(p=p,n=n)\n",
    "hc._calcdist=_calcdist\n",
    "\n",
    "#use the model adapter to create a model that can be used by our model_predict function\n",
    "hcp=general.ModelPredictAdaptor(hc,'_calcdist')"
   ]
  },
  {
   "cell_type": "markdown",
   "metadata": {
    "id": "mcVPRaUfpEER"
   },
   "source": [
    "### Normalize the landsat band values 0-1*p.\n",
    "#### Note, we could also use ordination to make orthogonal predictors (PCA analysis on standard normalization variables)"
   ]
  },
  {
   "cell_type": "code",
   "execution_count": 11,
   "metadata": {
    "id": "QxZWDigTpEER"
   },
   "outputs": [],
   "source": [
    "# note we could use sampling here to reduce the amount of processing\n",
    "bmins=ls_rs.xdata.min(axis=(1,2)).values\n",
    "bmaxs=ls_rs.xdata.max(axis=(1,2)).values\n",
    "\n",
    "#normalize the raster\n",
    "ls_sc=(((ls_rs.bandwise-bmins).bandwise/(bmaxs-bmins))*(2**p-1)).astype('int64')"
   ]
  },
  {
   "cell_type": "markdown",
   "metadata": {
    "id": "82_tKgcGpEER"
   },
   "source": [
    "### Calculate Hilbert distance surface"
   ]
  },
  {
   "cell_type": "code",
   "execution_count": 12,
   "metadata": {
    "id": "ACMLXbZMpEER"
   },
   "outputs": [],
   "source": [
    "# create a function that returns remap parameters\n",
    "def _get_rm_vls(dist,k=10,tech=mapclassify.Quantiles):\n",
    "    #bin based on quantiles\n",
    "    qts=tech(dist,10)\n",
    "    rm=[(0,qts.bins[0],0)]\n",
    "    for i in range(qts.bins.shape[0]-1):\n",
    "        vl=qts.bins[i]\n",
    "        vl2=qts.bins[i+1]\n",
    "        rm.append((vl,vl2,i+1))\n",
    "    return rm\n",
    "\n",
    "# create distance raster\n",
    "drs=ls_sc.model_predict(hcp,1).load()"
   ]
  },
  {
   "cell_type": "markdown",
   "metadata": {
    "id": "AAK3y0YkpEER"
   },
   "source": [
    "### Get remap values using a sample"
   ]
  },
  {
   "cell_type": "code",
   "execution_count": 13,
   "metadata": {
    "id": "VPZjazBbpEES"
   },
   "outputs": [],
   "source": [
    "# make sample of 10K\n",
    "xs=np.random.choice(drs.x,10000)\n",
    "ys=np.random.choice(drs.y,10000)\n",
    "\n",
    "smp=gpd.GeoSeries(gpd.points_from_xy(xs,ys),crs=drs.crs)\n",
    "tbl=zonal.extract_points_eager(smp,drs,axis=1).compute()\n",
    "\n",
    "# get remap values using quantiles (can use various options for grouping)\n",
    "# dist=drs.to_numpy().flatten()\n",
    "dist=tbl.iloc[:,0]\n",
    "rm=_get_rm_vls(dist,k=k,tech=mapclassify.JenksCaspallSampled)\n",
    "rm[-1]=(rm[-1][0],hc.max_h,k-1)\n",
    "\n",
    "# remap to K classes\n",
    "c_rs=drs.remap_range(rm,'right')"
   ]
  },
  {
   "cell_type": "markdown",
   "metadata": {
    "id": "LEHNvNW6pEES"
   },
   "source": [
    "### Plot the spatial distribution of K clusters"
   ]
  },
  {
   "cell_type": "code",
   "execution_count": null,
   "metadata": {
    "id": "qsuAAWWupEES"
   },
   "outputs": [],
   "source": [
    "import folium\n",
    "m=folium.Map()\n",
    "folium.TileLayer(\n",
    "        tiles = 'https://server.arcgisonline.com/ArcGIS/rest/services/World_Imagery/MapServer/tile/{z}/{y}/{x}',\n",
    "        attr = 'Esri',\n",
    "        name = 'Esri Imagery',\n",
    "        overlay = False,\n",
    "        control = True\n",
    "       ).add_to(m)\n",
    "m=c_rs.explore(band=1,cmap='terrain',map=m, name='Hilbert Clusters')\n",
    "#folium.LayerControl().add_to(m)\n",
    "m"
   ]
  },
  {
   "cell_type": "markdown",
   "metadata": {},
   "source": [
    "For a more in depth description of Hilbert space filling curves and infinite math, check out Grant Sanderson's youtube channel and video: https://www.youtube.com/watch?v=3s7h2MHQtxc "
   ]
  }
 ],
 "metadata": {
  "colab": {
   "include_colab_link": true,
   "provenance": []
  },
  "kernelspec": {
   "display_name": "rstools",
   "language": "python",
   "name": "python3"
  },
  "language_info": {
   "codemirror_mode": {
    "name": "ipython",
    "version": 3
   },
   "file_extension": ".py",
   "mimetype": "text/x-python",
   "name": "python",
   "nbconvert_exporter": "python",
   "pygments_lexer": "ipython3",
   "version": "3.10.16"
  }
 },
 "nbformat": 4,
 "nbformat_minor": 0
}
