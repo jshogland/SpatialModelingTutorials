{
  "cells": [
    {
      "cell_type": "markdown",
      "metadata": {
        "colab_type": "text",
        "id": "view-in-github"
      },
      "source": [
        "<a href=\"https://colab.research.google.com/github/jshogland/SpatialModelingTutorials/blob/main/Notebooks/getting_stac_data.ipynb\" target=\"_parent\"><img src=\"https://colab.research.google.com/assets/colab-badge.svg\" alt=\"Open In Colab\"/></a>"
      ]
    },
    {
      "cell_type": "markdown",
      "metadata": {
        "id": "hCXszsoCK0eV"
      },
      "source": [
        "# Getting Cloud based data\n",
        "## This Notebook demonstrates how to query Open Street Maps for National Forest Boundaries and Planetary Computer's data catalog for seamless elevation and Sentinel 2 level 2a processed data.\n",
        "\n",
        "Author John Hogland 12/1/2023"
      ]
    },
    {
      "cell_type": "markdown",
      "metadata": {
        "id": "9jb0eqBR1sqT"
      },
      "source": [
        "## Install various packages"
      ]
    },
    {
      "cell_type": "code",
      "execution_count": null,
      "metadata": {
        "id": "iD5u3nM-qAKc"
      },
      "outputs": [],
      "source": [
        "!pip install --upgrade numba\n",
        "!pip install --upgrade geopandas\n",
        "!pip install mapclassify\n",
        "!pip install --upgrade datascience\n",
        "!pip install --upgrade gym\n",
        "!pip install --upgrade folium\n",
        "!pip install osmnx\n",
        "!pip install raster_tools\n",
        "!pip install pystac_client\n",
        "!pip install stackstac\n",
        "!pip install planetary_computer"
      ]
    },
    {
      "cell_type": "markdown",
      "metadata": {
        "id": "faCuPl8M10Fm"
      },
      "source": [
        "## Import packages"
      ]
    },
    {
      "cell_type": "code",
      "execution_count": null,
      "metadata": {
        "id": "YCQWLTONqNvq"
      },
      "outputs": [],
      "source": [
        "from raster_tools import Raster, clipping\n",
        "import numpy as np, geopandas as gpd, pandas as pd, osmnx as ox"
      ]
    },
    {
      "cell_type": "markdown",
      "metadata": {
        "id": "h5KkMlCQ13mr"
      },
      "source": [
        "## Get forest boundary and buffered extent to download elevation and Sentinel 2 Level 2a processed imagery using Open Street Maps"
      ]
    },
    {
      "cell_type": "code",
      "execution_count": null,
      "metadata": {
        "id": "8AY0uxiTqfVr"
      },
      "outputs": [],
      "source": [
        "snf=ox.geocode_to_gdf('Malheur National Forest, OR, USA') # can change to any forest (used to create a geometry for selecting the extent of the study area)\n",
        "ply=snf.buffer(0.25)\n",
        "geo=ply[0]"
      ]
    },
    {
      "cell_type": "markdown",
      "metadata": {
        "id": "TkwMghKH2Oc_"
      },
      "source": [
        "## Import packages and make methods to download and mosaic stac data"
      ]
    },
    {
      "cell_type": "code",
      "execution_count": null,
      "metadata": {
        "id": "2NqoFbo0qg8Z"
      },
      "outputs": [],
      "source": [
        "import pystac_client\n",
        "import stackstac\n",
        "import planetary_computer\n",
        "\n",
        "def make_mosaic(xra):\n",
        "    return Raster(stackstac.mosaic(xra))\n",
        "\n",
        "def get_stac_data(geo,url=\"https://planetarycomputer.microsoft.com/api/stac/v1\",name=\"3dep-seamless\",qry=None,res=None,crs=5070,dt=None,limit=1000):\n",
        "    '''\n",
        "    gets data from planetary computer\n",
        "\n",
        "    geo = (polygon) geometry bounding box (WGS84)\n",
        "    url = (string) base url to planetary computer\n",
        "    name = (string) catelog resource\n",
        "    qry =  (dictoinary) of property values\n",
        "    res = (tuple of numbers) output resolution (x,y)\n",
        "    crs = (int) output crs\n",
        "    dt = (strin) data time intervale 2022/2023\n",
        "    limit = (int) max number of items to return\n",
        "\n",
        "  returns (stac items, dataframe of tiles, and xarray data array)\n",
        "    '''\n",
        "    catalog = pystac_client.Client.open(url, modifier=planetary_computer.sign_inplace)\n",
        "    srch = catalog.search(collections=name, intersects=geo, query=qry, datetime=dt, limit=limit,)\n",
        "    ic = srch.item_collection()\n",
        "    df = gpd.GeoDataFrame.from_features(ic.to_dict(), crs=\"epsg:4326\")\n",
        "    xra = stackstac.stack(ic,resolution=res,epsg=crs)\n",
        "    return ic, df, xra\n"
      ]
    },
    {
      "cell_type": "markdown",
      "metadata": {
        "id": "HuEESiUo8anp"
      },
      "source": [
        "## Get 3dep seamless 30 meter resolution elevation data"
      ]
    },
    {
      "cell_type": "code",
      "execution_count": null,
      "metadata": {
        "id": "iAQxsCeyqr6r"
      },
      "outputs": [],
      "source": [
        "url=\"https://planetarycomputer.microsoft.com/api/stac/v1\" #planetary computer url\n",
        "nm=\"3dep-seamless\" #specify the catalog name\n",
        "qry={'gsd':{'eq':30}} #query for 30 meter data\n",
        "ic,df,xra = get_stac_data(geo,url,nm,qry,(30,30),5070) #get the data\n",
        "dem=make_mosaic(xra) #make a mosaic of the surfaces"
      ]
    },
    {
      "cell_type": "markdown",
      "metadata": {
        "id": "ZVjPE6VN89m1"
      },
      "source": [
        "## Visualize the boundary of each dem tile and plot a subset of the boundary\n"
      ]
    },
    {
      "cell_type": "code",
      "execution_count": null,
      "metadata": {
        "id": "jACDdL56424R"
      },
      "outputs": [],
      "source": [
        "m=df.explore(style_kwds={\"fillOpacity\":0})\n",
        "m=snf.explore(m=m,color='orange')\n",
        "m"
      ]
    },
    {
      "cell_type": "markdown",
      "metadata": {
        "id": "9zajguat_tyQ"
      },
      "source": [
        "### Clip elevation to national forest boundary and plot (note, only pixels for the extent of the national forest are downloaded when plotting)"
      ]
    },
    {
      "cell_type": "code",
      "execution_count": null,
      "metadata": {
        "id": "l_-lUQCW-vRn"
      },
      "outputs": [],
      "source": [
        "snf_p=snf.to_crs(dem.crs)\n",
        "dem_c=clipping.clip(snf_p,dem)\n",
        "dem_c.plot(figsize=(15,15),cmap='terrain')"
      ]
    },
    {
      "cell_type": "markdown",
      "metadata": {
        "id": "PkHWdCYf91gP"
      },
      "source": [
        "## Get Sentinel 2 level 2a processed data for the extent of the boundary and the month of June 2022"
      ]
    },
    {
      "cell_type": "code",
      "execution_count": null,
      "metadata": {
        "id": "1FrLL_IrrDb2"
      },
      "outputs": [],
      "source": [
        "nm='sentinel-2-l2a'\n",
        "qry={'eo:cloud_cover':{'lt':1}}\n",
        "dt='2022-06'\n",
        "ic,df,xra = get_stac_data(geo,url,nm,qry,(10,10),5070,dt)"
      ]
    },
    {
      "cell_type": "markdown",
      "metadata": {
        "id": "ZMpMCsk7NYIs"
      },
      "source": [
        "## Visualize the various scenes and project area"
      ]
    },
    {
      "cell_type": "code",
      "execution_count": null,
      "metadata": {
        "id": "YQxJiT33yPqv"
      },
      "outputs": [],
      "source": [
        "m=df.explore(style_kwds={\"fillOpacity\":0})\n",
        "m=snf.explore(m=m,color='orange')\n",
        "m"
      ]
    },
    {
      "cell_type": "markdown",
      "metadata": {
        "id": "SIuV_bRmBmv-"
      },
      "source": [
        "## Look at the xarray data array. Any attribute or coordiante variable can be used to subset the array."
      ]
    },
    {
      "cell_type": "code",
      "execution_count": null,
      "metadata": {
        "id": "ljsztdOi6kVh"
      },
      "outputs": [],
      "source": [
        "xra"
      ]
    },
    {
      "cell_type": "markdown",
      "metadata": {
        "id": "rN8R_VCMChYE"
      },
      "source": [
        "## Extract band BO2 (blue) and mosaic the various scenes dates to produce a 1 band raster. One could do various things here to subset the data and produce a seamless raster, but we are going to simply mosaic based on the order of rasters in the item collections."
      ]
    },
    {
      "cell_type": "code",
      "execution_count": null,
      "metadata": {
        "id": "SbTrs6Md7aOc"
      },
      "outputs": [],
      "source": [
        "xra2=xra.sel(band='B02')\n",
        "sent2=make_mosaic(xra2)\n",
        "sent2.xdata"
      ]
    },
    {
      "cell_type": "markdown",
      "metadata": {
        "id": "9c25rc0ADO8B"
      },
      "source": [
        "## Take a subset of the image and plot it"
      ]
    },
    {
      "cell_type": "code",
      "execution_count": null,
      "metadata": {
        "id": "BWqWzyXg7gZD"
      },
      "outputs": [],
      "source": [
        "(sent2.xdata[0,10000:12000,10000:12000]).plot(figsize=(15,15),robust=True) #only band 2 pixels for the extent of the national forst are downloaded"
      ]
    }
  ],
  "metadata": {
    "colab": {
      "authorship_tag": "ABX9TyNNHtGFKMImVsKyLRvVAIcc",
      "include_colab_link": true,
      "provenance": []
    },
    "kernelspec": {
      "display_name": "Python 3",
      "name": "python3"
    },
    "language_info": {
      "name": "python"
    }
  },
  "nbformat": 4,
  "nbformat_minor": 0
}
